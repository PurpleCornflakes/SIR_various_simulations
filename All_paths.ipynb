{
 "cells": [
  {
   "cell_type": "markdown",
   "metadata": {},
   "source": [
    "### This notebook is to invent a new algorithm to meaure SIR spreading power of any seed\n",
    "> Given r and mu, P(A would infect B eventually) could be calculated through all paths from A to B\n",
    "\n",
    "> SpreadingPower(A) = $\\sum_{k}P(A\\rightarrow k)$"
   ]
  },
  {
   "cell_type": "code",
   "execution_count": 53,
   "metadata": {},
   "outputs": [],
   "source": [
    "\n",
    "\n",
    "def all_paths_from_seed(G, seed=1):\n",
    "    paths_dict = dict([(i,{}) for i in range(1,G.number_of_nodes()+1)])\n",
    "    nodes_with_path_1 = set()\n",
    "    for k in G.neighbors(seed):\n",
    "        paths_dict[k][1] = [seed]\n",
    "        nodes_with_path_1.add(k)\n",
    "        G.remove_edge(k,seed)\n",
    "        nodes_with_path_l = nodes_with_path_1\n",
    "    for l in range(1,5):\n",
    "        nodes_with_path_lplus1 = set()\n",
    "#         print(nodes_with_path_l)\n",
    "        for n in nodes_with_path_l:\n",
    "            for k in G.neighbors(n):\n",
    "                l_paths_n = paths_dict[n][l]\n",
    "                num_lplus1_paths_nk = len(l_paths_n)\n",
    "                if k in l_paths_n:\n",
    "                    num_lplus1_paths_nk -= l_paths_n.count(k)\n",
    "                if num_lplus1_paths_nk > 0:\n",
    "                    nodes_with_path_lplus1.add(k)\n",
    "                    if l+1 not in paths_dict[k]:\n",
    "                        paths_dict[k][l+1] = []\n",
    "                    paths_dict[k][l+1] += [n]*num_lplus1_paths_nk\n",
    "#                     if n in G.neighbors(k):\n",
    "#                         G.remove_edge(k,n)\n",
    "        nodes_with_path_l = nodes_with_path_lplus1\n",
    "    return paths_dict"
   ]
  },
  {
   "cell_type": "code",
   "execution_count": 54,
   "metadata": {},
   "outputs": [
    {
     "name": "stdout",
     "output_type": "stream",
     "text": [
      "[[1, 2], [1, 3, 2], [1, 4, 5, 3, 2], [1, 4, 6, 5, 3, 2], [1, 5, 3, 2]]\n"
     ]
    },
    {
     "data": {
      "text/plain": [
       "{1: {},\n",
       " 2: {1: [1], 2: [3], 3: [3], 4: [3], 5: [3]},\n",
       " 3: {1: [1], 2: [2, 5], 3: [5], 4: [5], 5: [5, 5]},\n",
       " 4: {1: [1], 2: [5], 3: [5, 6], 4: [5, 5, 6, 6], 5: [5, 6]},\n",
       " 5: {1: [1], 2: [3, 4], 3: [3, 6], 4: [4, 6], 5: [4, 4, 6]},\n",
       " 6: {2: [4, 5], 3: [4, 5, 5], 4: [4, 5], 5: [4, 4, 5]},\n",
       " 7: {3: [6, 6], 4: [6, 6, 6], 5: [6, 6]}}"
      ]
     },
     "execution_count": 54,
     "metadata": {},
     "output_type": "execute_result"
    }
   ],
   "source": [
    "import networkx as nx\n",
    "\n",
    "G = nx.DiGraph()\n",
    "G.add_edges_from([(1,2),(2,1),(1,3),(3,1),(1,4),(4,1),(1,5),(5,1),(2,3),(3,2),(3,5),(5,3),(4,5),(5,4),(4,6),(6,4),(5,6),(6,5),(6,7),(7,6)])\n",
    "G0 = nx.Graph()\n",
    "G0.add_edges_from([(1,2),(2,1),(1,3),(3,1),(1,4),(4,1),(1,5),(5,1),(2,3),(3,2),(3,5),(5,3),(4,5),(5,4),(4,6),(6,4),(5,6),(6,5),(6,7),(7,6)])\n",
    "print(list(nx.all_simple_paths(G0, source=1, target=2)))\n",
    "all_paths_from_seed(G)"
   ]
  },
  {
   "cell_type": "code",
   "execution_count": 39,
   "metadata": {},
   "outputs": [
    {
     "name": "stdout",
     "output_type": "stream",
     "text": [
      "{2, 3, 4, 5}\n",
      "{2, 3, 4, 5, 6}\n",
      "{2, 3, 4, 5, 6, 7}\n",
      "{2, 3, 4, 5, 6, 7}\n"
     ]
    },
    {
     "data": {
      "text/plain": [
       "{1: {},\n",
       " 2: {1: [1], 2: [3], 3: [3], 4: [3], 5: [3]},\n",
       " 3: {1: [1], 2: [2, 5], 3: [5], 4: [5], 5: [5, 5]},\n",
       " 4: {1: [1], 2: [5], 3: [5, 6], 4: [5, 5, 6, 6], 5: [5, 6]},\n",
       " 5: {1: [1], 2: [3, 4], 3: [3, 6], 4: [4, 6], 5: [4, 4, 6]},\n",
       " 6: {2: [4, 5], 3: [4, 5, 5], 4: [4, 5], 5: [4, 4, 5]},\n",
       " 7: {3: [6, 6], 4: [6, 6, 6], 5: [6, 6]}}"
      ]
     },
     "execution_count": 39,
     "metadata": {},
     "output_type": "execute_result"
    }
   ],
   "source": [
    "\n",
    "\n",
    "\n"
   ]
  },
  {
   "cell_type": "code",
   "execution_count": 20,
   "metadata": {},
   "outputs": [
    {
     "name": "stdout",
     "output_type": "stream",
     "text": [
      "None\n"
     ]
    }
   ],
   "source": [
    "print(a)"
   ]
  },
  {
   "cell_type": "code",
   "execution_count": 26,
   "metadata": {},
   "outputs": [],
   "source": [
    "a = set()"
   ]
  },
  {
   "cell_type": "code",
   "execution_count": 32,
   "metadata": {},
   "outputs": [],
   "source": [
    "a.add(1)\n",
    "a.add(1)\n",
    "a.add(2)"
   ]
  },
  {
   "cell_type": "code",
   "execution_count": 33,
   "metadata": {},
   "outputs": [
    {
     "data": {
      "text/plain": [
       "{1, 2}"
      ]
     },
     "execution_count": 33,
     "metadata": {},
     "output_type": "execute_result"
    }
   ],
   "source": [
    "a"
   ]
  },
  {
   "cell_type": "code",
   "execution_count": 36,
   "metadata": {},
   "outputs": [
    {
     "data": {
      "text/plain": [
       "True"
      ]
     },
     "execution_count": 36,
     "metadata": {},
     "output_type": "execute_result"
    }
   ],
   "source": [
    "a = {1:2,3:4}\n",
    "3 in a"
   ]
  },
  {
   "cell_type": "code",
   "execution_count": 77,
   "metadata": {},
   "outputs": [
    {
     "data": {
      "text/plain": [
       "<networkx.classes.digraph.DiGraph at 0x112d31c88>"
      ]
     },
     "execution_count": 77,
     "metadata": {},
     "output_type": "execute_result"
    }
   ],
   "source": [
    "G.number"
   ]
  },
  {
   "cell_type": "code",
   "execution_count": 15,
   "metadata": {},
   "outputs": [
    {
     "data": {
      "text/plain": [
       "2"
      ]
     },
     "execution_count": 15,
     "metadata": {},
     "output_type": "execute_result"
    }
   ],
   "source": [
    "b = [1,1,2,3,3]\n",
    "b.count(3)"
   ]
  },
  {
   "cell_type": "code",
   "execution_count": null,
   "metadata": {},
   "outputs": [],
   "source": []
  }
 ],
 "metadata": {
  "kernelspec": {
   "display_name": "Python 3",
   "language": "python",
   "name": "python3"
  },
  "language_info": {
   "codemirror_mode": {
    "name": "ipython",
    "version": 3
   },
   "file_extension": ".py",
   "mimetype": "text/x-python",
   "name": "python",
   "nbconvert_exporter": "python",
   "pygments_lexer": "ipython3",
   "version": "3.6.4"
  }
 },
 "nbformat": 4,
 "nbformat_minor": 2
}
