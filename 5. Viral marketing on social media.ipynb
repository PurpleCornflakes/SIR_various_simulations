{
 "cells": [
  {
   "cell_type": "markdown",
   "metadata": {},
   "source": [
    "### Author: Feng Ling, Michael Lees and Debraj Roy\n",
    "\n",
    "---\n",
    "The MIT License (MIT)\n",
    "\n",
    "Copyright (c) 2015 Michael Lees, Debraj Roy\n",
    "\n",
    "Permission is hereby granted, free of charge, to any person obtaining a copy\n",
    "of this software and associated documentation files (the \"Software\"), to deal\n",
    "in the Software without restriction, including without limitation the rights\n",
    "to use, copy, modify, merge, publish, distribute, sublicense, and/or sell\n",
    "copies of the Software, and to permit persons to whom the Software is\n",
    "furnished to do so, subject to the following conditions:\n",
    "\n",
    "The above copyright notice and this permission notice shall be included in all\n",
    "copies or substantial portions of the Software.\n",
    "\n",
    "THE SOFTWARE IS PROVIDED \"AS IS\", WITHOUT WARRANTY OF ANY KIND, EXPRESS OR\n",
    "IMPLIED, INCLUDING BUT NOT LIMITED TO THE WARRANTIES OF MERCHANTABILITY,\n",
    "FITNESS FOR A PARTICULAR PURPOSE AND NONINFRINGEMENT. IN NO EVENT SHALL THE\n",
    "AUTHORS OR COPYRIGHT HOLDERS BE LIABLE FOR ANY CLAIM, DAMAGES OR OTHER\n",
    "LIABILITY, WHETHER IN AN ACTION OF CONTRACT, TORT OR OTHERWISE, ARISING FROM,\n",
    "OUT OF OR IN CONNECTION WITH THE SOFTWARE OR THE USE OR OTHER DEALINGS IN THE\n",
    "SOFTWARE.\n",
    "\n",
    "---\n",
    "\n",
    "# Viral Marketing using NetworkX\n",
    "\n",
    "Social network platforms like Facebook or Twitter is becoming major sources of information channels. On these new media platforms, everyone acts as both information generator and consumer. In a sense, the spreading of information, and broadly speaking, opinions, shares much resemblance with disease spreading, in which the information/opinion is the virus jumping from one person to another. Hence the term 'viral marketing' is used to define the information that goes viral over social networks space, much like an epidemic.\n",
    "\n",
    "\n",
    "\n",
    "\n",
    "## SIR model in disease spreading and information spreading.\n",
    "\n",
    "\n",
    "In the context of Twitter, a particular tweet that originates from a single or a group of Twitter accounts.  The traditional SIR model in disease spreading can be mapped onto information spreading as follows:\n",
    "\n",
    "1. Susceptible - a person has not retweeted the particular tweet (the disease).\n",
    "\n",
    "2. Infected - the person has retweeted it and the retweet remains visible to its followers on Twitter, such that the followers have a chance to retweet it.\n",
    "\n",
    "3. Removed -  the person has retweeted sometime ago, and the retweet from him/her is no longer visible by the followers. Thus this person is not going to retweet the same information again, and none of its followers would retweet from him/her due to the lack of visibility.\n",
    "\n",
    "It has been pointed out that empirical evidence do not always support the original SIR model mechanism in information spreading, while certain variations of SIR would capture the real spreading behaviors of people better. But for the sake of simplicity, we are only going to cover the original SIR model for this class.\n",
    "\n",
    "Since we are using the same SIR model for information spreading, the model setting is the same as session '4. Epidemic spreading using NetworkX'. $\\beta$ is the probability that an infected node spreads the information to each of its susceptible neighbors in each simulation time step. $\\alpha$ is the probability that an infected node recovers in each simulation time step. This process resembles a 'bond-percolation' process in statistical physics.\n",
    "\n",
    "\n",
    "## The problem\n",
    "\n",
    "The problem we are addressing is the maximization of viral spreading through selecting the best set of seed nodes. This means given a piece of information (say a Tweet) with fixed $\\beta$ and $\\alpha$ values, what are the best seed nodes to infect in the initialisation round, such that the information can reach the widest population. Mathematically, if we define $T$ as the expected number of people who would retweet the information eventually, how to select the initial nodes to maximize the value of $T$. To estimate a reliable $T$ value, we need to run multiple simulations (Monte Carlo) for each initialization to get the average $\\langle T\\rangle $ value. \n",
    "\n",
    "\n",
    "## The code\n",
    "    \n",
    "Since the mechanism in this information spreading model is assumed to be the same as the epidemic spreading model in the previous session, we will build upon the previous codes for this tutorial.\n",
    "    \n",
    "We first start with importing libraries and network data.\n"
   ]
  },
  {
   "cell_type": "code",
   "execution_count": 1,
   "metadata": {},
   "outputs": [],
   "source": [
    "import networkx as nx #import NetworkX\n",
    "import numpy as np #import numpy for ...\n",
    "#force drawing of graphs inline for ipython notebook\n",
    "%matplotlib inline \n",
    "import matplotlib.pyplot as plt #import matplotlib for plotting/drawing grpahs\n",
    "import matplotlib.patches as mpatches #for legends in the graph\n",
    "from __future__ import unicode_literals #allow UTF characters in graph labels\n",
    "import random # for random choice function\n",
    "from tqdm import tqdm #nice library for progress bars\n",
    "import sys #for printing to screen in a special way\n",
    "import operator #standard python library used for sorting\n",
    "from enum import * # used for the states S,I,R"
   ]
  },
  {
   "cell_type": "markdown",
   "metadata": {},
   "source": [
    "## Python functions\n",
    "\n",
    "The functions are mostly from the previous session, with the exceptions of initialise_infection() and its related lines in the other functions. The initialisation is critical to this problem since it determines the final $\\langle T \\rangle$ value.\n"
   ]
  },
  {
   "cell_type": "code",
   "execution_count": 24,
   "metadata": {
    "scrolled": false
   },
   "outputs": [],
   "source": [
    "class State(Enum): # define the three states of the nodes.\n",
    "    Succeptible = 0\n",
    "    Infected = 1\n",
    "    Removed = 2\n",
    "    \n",
    "def reset(G):\n",
    "    \"\"\" \n",
    "    :param G: The graph to reset\n",
    "    \n",
    "    Initialise/reset all the nodes in the network to be succeptible. \n",
    "    Used to initialise the network at the start of an experiment\n",
    "    \"\"\"\n",
    "    nx.set_node_attributes(G, name='state', values=State.Succeptible)\n",
    "        \n",
    "\n",
    "        \n",
    "def initialise_infection_random(G, num_to_infect):\n",
    "    \"\"\"\n",
    "    :param G: Graph to infect nodes on\n",
    "    :param num_to_infect: Number of nodes to infect on G\n",
    "    \n",
    "    Set the state of a random selection of nodes to be infected. \n",
    "    numToInfect specifices how many infections to make, the nodes \n",
    "    are chosen randomly from all nodes in the network\n",
    "    \"\"\"\n",
    "    nodes_to_infect = random.sample(G.nodes(), num_to_infect)\n",
    "    for n in nodes_to_infect:\n",
    "        G.node[n]['state'] = State.Infected\n",
    "    return nodes_to_infect\n",
    "\n",
    "def transmission_model_factory(beta=0.03, alpha=0.05):\n",
    "    \"\"\"\n",
    "    :param beta: specifies the rate of infection (movement from S to I)\n",
    "    :param alpha: specifies the rate of removal (movement from I to R)\n",
    "    :returns: a function specifying infection model.\n",
    "    \n",
    "    Creates and returns an instance of a infection model. This allows us \n",
    "    to create a number of models with different beta and alpha parameters.\n",
    "    Note that in a single time step an infected node can infect their neighbours\n",
    "    and then be removed.\n",
    "    \"\"\"\n",
    "    def m(n, G):\n",
    "        if G.node[n][\"state\"] == State.Infected:\n",
    "            # infect susceptible neighbours with probability pInfect\n",
    "            for k in G.neighbors(n):\n",
    "                if G.node[k]['state'] == State.Succeptible:\n",
    "                    if random.random() <= beta:\n",
    "                        G.node[k]['state'] = State.Infected\n",
    "            if random.random() <= alpha:\n",
    "                G.node[n]['state'] = State.Removed                \n",
    "    return m\n",
    "\n",
    "def execute_one_step(G, model):\n",
    "    \"\"\"\n",
    "    :param G: the Graph on which to execute the infection model\n",
    "    :param model: model used to infect nodes on G\n",
    "\n",
    "    executes the infection model on all nodes in G\n",
    "    \"\"\"\n",
    "    for n in G:\n",
    "        model(n, G)\n",
    "\n",
    "def get_infection_stats(G):\n",
    "    \"\"\"\n",
    "    :param G: the Graph on which to execute the infection model\n",
    "    :returns: a tuple containing three lists of succeptible, infected and removed nodes.\n",
    "\n",
    "    Creates lists of nodes in the graph G that are succeptible, infected and removed.\n",
    "    \"\"\"\n",
    "    infected = []\n",
    "    succeptible = []\n",
    "    removed = []\n",
    "    for n in G:\n",
    "        if G.node[n][\"state\"] == State.Infected:\n",
    "            infected.append(n)\n",
    "        elif G.node[n]['state'] == State.Succeptible:\n",
    "            succeptible.append(n)\n",
    "        else:\n",
    "            removed.append(n)\n",
    "    return succeptible, infected, removed\n",
    "\n",
    "\n",
    "def print_infection_stats(G):\n",
    "    \"\"\"\n",
    "    :param G: the Graph on which to execute the infection model\n",
    "\n",
    "    Prints the number of succeptible, infected and removed nodes in graph G.\n",
    "    \"\"\"\n",
    "    s,i,r = get_infection_stats(G)\n",
    "#     print \"Succeptible: %d Infected: %d Removed %d\"% (len(s),len(i),len(r))\n",
    "\n",
    "def run_spread_simulation(G, model, initially_infected, run_visualise=False):\n",
    "    \"\"\"\n",
    "    :param G: the Graph on which to execute the infection model\n",
    "    :param model: model used to infect nodes on G\n",
    "    :param initial_infection_count: Number of nodes to infect on G\n",
    "    :param run_visualise: if set to true a visual representation of the network \n",
    "                          will be written to file at each time step\n",
    "    :returns : a 5-tuple containing, list of S,I,R nodes at end, the end time \n",
    "               and the list of initially infected nodes (useful for visulisation)\n",
    "\n",
    "    Runs a single simulation of infection on the graph G, using the specified model. \n",
    "    An initial infection count is specified to infect a set of nodes. \n",
    "    The simulation is executed until there are no more infected nodes, that is the \n",
    "    infection dies out, or everyone ends up removed.\n",
    "    \"\"\"\n",
    "    #initially_infected = initialise_infection_degree(G, initial_infection_count)\n",
    "\n",
    "    s_results = []\n",
    "    i_results = []\n",
    "    r_results = []\n",
    "\n",
    "    dt = 0\n",
    "    s,i,r = get_infection_stats(G)\n",
    "    \n",
    "    pos = nx.spring_layout(G, k=.75)\n",
    "    \n",
    "    while len(i) > 0:\n",
    "        execute_one_step(G, model)\n",
    "        dt += 1\n",
    "        s,i,r = get_infection_stats(G)\n",
    "        s_results.append(len(s))\n",
    "        i_results.append(len(i))\n",
    "        r_results.append(len(r))\n",
    "        sys.stderr.write('\\rInfected: %d time step: %d' % (len(i), dt))\n",
    "        sys.stderr.flush()\n",
    "        if run_visualise:\n",
    "            draw_network_to_file(G,pos,dt,initially_infected)\n",
    "    return s_results, i_results, r_results, dt, initially_infected\n",
    "\n",
    "def plot_infection(S,I,R,G):\n",
    "    \"\"\"\n",
    "    :param S: time-ordered list from simulation output indicating how succeptible count changes over time\n",
    "    :param I: time-ordered list from simulation output indicating how infected count changes over time\n",
    "    :param R: time-ordered list from simulation output indicating how removed count changes over time\n",
    "    :param G: Graph of statistic to plot\n",
    "   \n",
    "    Creates a plot of the S,I,R output of a spread simulation.\n",
    "    \"\"\"\n",
    "    peak_incidence = max(I)\n",
    "    peak_time = I.index(max(I))\n",
    "    total_infected = S[0]-S[-1]\n",
    "\n",
    "    fig_size= [18,13]\n",
    "    plt.rcParams.update({'font.size': 14, \"figure.figsize\": fig_size})\n",
    "    xvalues = range(len(S))\n",
    "    plt.plot(xvalues, S, color='g', linestyle='-', label=\"S\")\n",
    "    plt.plot(xvalues, I, color='b', linestyle='-', label=\"I\")\n",
    "    plt.plot(xvalues, R, color='r', linestyle='-', label=\"R\")\n",
    "    plt.axhline(peak_incidence, color='b', linestyle='--', label=\"Peak Indidence\")\n",
    "    plt.annotate(str(peak_incidence),xy=(1,peak_incidence+10), color='b')\n",
    "    plt.axvline(peak_time, color='b', linestyle=':', label=\"Peak Time\")\n",
    "    plt.annotate(str(peak_time),xy=(peak_time+1,8), color='b')\n",
    "    plt.axhline(total_infected, color='r', linestyle='--', label=\"Total Infected\")\n",
    "    plt.annotate(str(total_infected),xy=(1,total_infected+10), color='r')\n",
    "    plt.legend()\n",
    "    plt.xlabel('time step')\n",
    "    plt.ylabel('Count')\n",
    "    plt.title('SIR for network size ' + str(G.order()))\n",
    "    plt.show()\n",
    "    \n",
    "    \n",
    "def draw_network_to_file(G,pos,t, initially_infected):\n",
    "    \"\"\"\n",
    "    :param G: Graph to draw to png file\n",
    "    :param pos: position defining how to layout graph\n",
    "    :param t: current timestep of simualtion (used for filename distinction)\n",
    "    :param initially_infected: list of initially infected nodes\n",
    "   \n",
    "    Draws\n",
    "    \"\"\"\n",
    "    # create the layout\n",
    "    states = []\n",
    "    for n in G.nodes():\n",
    "        if n in initially_infected:\n",
    "            states.append(3)\n",
    "        else:\n",
    "            states.append(G.node[n]['state']) \n",
    "    from matplotlib import colors\n",
    "    cmap = colors.ListedColormap(['green', 'blue','red', 'yellow'])\n",
    "    bounds=[0,1,2,3]\n",
    "\n",
    "    # draw the nodes and the edges (all)\n",
    "    nx.draw_networkx_nodes(G,pos,cmap=cmap,alpha=0.5,node_size=170, node_color=states)\n",
    "    nx.draw_networkx_edges(G,pos,alpha=0.075)\n",
    "    plt.savefig(\"images/g\"+str(t)+\".png\")\n",
    "    plt.clf()\n",
    "    \n",
    "def plotDistribution(_influences):\n",
    "    plt.hist(_influences,range=[0,1],bins=30)\n",
    "    plt.title(\"Realisations\")\n",
    "    plt.xlabel(\"Number of infected nodes / Total number of nodes\")\n",
    "    plt.ylabel(\"Frequency\")\n",
    "    plt.show()"
   ]
  },
  {
   "cell_type": "markdown",
   "metadata": {},
   "source": [
    "## Setting up our experiment\n",
    "\n",
    "Here are the parameters used in the experiments:\n",
    "\n",
    "1. Size of network $N$\n",
    "2. Our Initial Network $Gra$\n",
    "3. Our transmission model $m$ that specifies how a node infects others\n",
    "4. The number of initial seed nodes $ini$ to spread the information (initial infected nodes)\n",
    "\n",
    "In the actual problems, the value of $ini$ is related to the budget. Imagine a company wants to increases its publicity and decides to spread a commercial through Twitter. If it has a larger budget, it can afford a larger $ini$ value to pay more Twitter users to share this commercial on their tweets. \n"
   ]
  },
  {
   "cell_type": "code",
   "execution_count": 25,
   "metadata": {},
   "outputs": [],
   "source": [
    "##############################################\n",
    "#Initialise the network\n",
    "N = 1000 # size of network to make\n",
    "Gra = nx.barabasi_albert_graph(N, 3) #create BA network with specified m value\n",
    "#Gra = nx.erdos_renyi_graph(N,5.0/N) # create ER network with average degree 5.0\n",
    "m = transmission_model_factory(0.08, 0.5) # create our transmission model\n",
    "ini = 5 #initially infected number of nodes\n",
    "sampleSize = 20 # defines the number of simulation runs for a fixed setting"
   ]
  },
  {
   "cell_type": "markdown",
   "metadata": {},
   "source": [
    "## Running our first experiment\n",
    "\n",
    "In this experiment, we start with random selection of initial infected nodes and repeat the simulation multiple times. At the end of the simulation, the final number of removed nodes $R$ is the number of people retweeted the same tweet, thus regarded as the final popularity of the information $T$. Calculating the average of the $R$ values gives the expected $T$ value we want to maximize.\n",
    "\n",
    "In this example, you will find two peaks in the histogram plots, with one near 0, and one near 0.2. This means the spreading either does not spread out at all, or to about 20% or the whole network once it does. We call this a bimodal spreading behavior.\n"
   ]
  },
  {
   "cell_type": "code",
   "execution_count": 26,
   "metadata": {},
   "outputs": [
    {
     "name": "stderr",
     "output_type": "stream",
     "text": [
      "Infected: 0 time step: 216"
     ]
    },
    {
     "data": {
      "image/png": "[encoded data removed]",
      "text/plain": [
       "<matplotlib.figure.Figure at 0x109a2b550>"
      ]
     },
     "metadata": {},
     "output_type": "display_data"
    }
   ],
   "source": [
    "# run Monte Carlo simulations\n",
    "Influences = []  #stores the total number of removed nodes in each run.\n",
    "for i in range(sampleSize):\n",
    "    reset(Gra) # initialise all nodes to succeptible\n",
    "    initially_infected = initialise_infection_random(Gra, ini)\n",
    "    S, I, R, endtime, ii = run_spread_simulation(Gra, m, initially_infected)\n",
    "    Influences.append(float(R[-1])/len(Gra))\n",
    "# print  'the expected influence of the seed nodes is', np.average(Influences)\n",
    "plotDistribution(Influences)"
   ]
  },
  {
   "cell_type": "markdown",
   "metadata": {},
   "source": [
    "## Seeding initial nodes by degree\n",
    "\n",
    "Rather than selecting initial spreaders (of information) according to the degree of nodes, the following function selects the nodes with the largest  (smallest) degree and start the spreading. \n",
    "\n",
    "The simulation result would exhibit the same bimodal behavior as well: either it does not spread out, or spreads out to 20% of the total network eventually. The interesting phenomenon is that the position of the larger peak is similar to the one of the random initialisation.\n"
   ]
  },
  {
   "cell_type": "code",
   "execution_count": 28,
   "metadata": {},
   "outputs": [
    {
     "name": "stderr",
     "output_type": "stream",
     "text": [
      "Infected: 0 time step: 274"
     ]
    },
    {
     "data": {
      "image/png": "[encoded data removed]",
      "text/plain": [
       "<matplotlib.figure.Figure at 0x150edebef0>"
      ]
     },
     "metadata": {},
     "output_type": "display_data"
    }
   ],
   "source": [
    "def initialise_infection_degree(G, num_to_infect, largest=True):\n",
    "    degrees = dict(G.degree()) #get degrees of every node\n",
    "    #below we sort the nodes in order of their degree, highest degree first.\n",
    "    nodes_to_infect = []\n",
    "    nodes_sorted_by_degree = sorted(degrees.items(), key=operator.itemgetter(1), reverse=largest) \n",
    "    for x in range(num_to_infect): \n",
    "        nodes_to_infect.append(nodes_sorted_by_degree[x])\n",
    "    for n in nodes_to_infect:\n",
    "        G.node[n[0]]['state'] = State.Infected\n",
    "    return nodes_to_infect\n",
    "\n",
    "# run Monte Carlo simulations\n",
    "Influences = []  #stores the total number of removed nodes in each run.\n",
    "for i in range(sampleSize):\n",
    "    reset(Gra) # initialise all nodes to succeptible\n",
    "    initially_infected = initialise_infection_degree(Gra, ini)\n",
    "    S, I, R, endtime, ii = run_spread_simulation(Gra, m, initially_infected)\n",
    "    Influences.append(float(R[-1])/len(Gra))\n",
    "# print  'the expected influence of the seed nodes is', np.average(Influences)\n",
    "plotDistribution(Influences)"
   ]
  },
  {
   "cell_type": "code",
   "execution_count": 29,
   "metadata": {},
   "outputs": [
    {
     "name": "stderr",
     "output_type": "stream",
     "text": [
      "Infected: 0 time step: 628"
     ]
    },
    {
     "data": {
      "image/png": "[encoded data removed]",
      "text/plain": [
       "<matplotlib.figure.Figure at 0x150ee29048>"
      ]
     },
     "metadata": {},
     "output_type": "display_data"
    }
   ],
   "source": [
    "# run Monte Carlo simulations using the smallest degree nodes as seeds\n",
    "Influences = []  #stores the total number of removed nodes in each run.\n",
    "for i in range(sampleSize):\n",
    "    reset(Gra) # initialise all nodes to succeptible\n",
    "    initially_infected = initialise_infection_degree(Gra, ini, largest = False)\n",
    "    S, I, R, endtime, ii = run_spread_simulation(Gra, m, initially_infected)\n",
    "    Influences.append(float(R[-1])/len(Gra))\n",
    "# print  'the expected influence of the seed nodes is', np.average(Influences)\n",
    "plotDistribution(Influences)"
   ]
  },
  {
   "cell_type": "markdown",
   "metadata": {},
   "source": [
    "## Seeding initial nodes by betweenness centrality\n",
    "\n",
    "An alternative way to do select the best set of nodes would be selecting the ones with the high betweenness centrality.\n",
    "\n",
    "Again, the simulation result would exhibit the same bimodal behavior as well: either it does not spread out, or spreads out to 20% of the total network eventually.\n"
   ]
  },
  {
   "cell_type": "code",
   "execution_count": 30,
   "metadata": {},
   "outputs": [
    {
     "name": "stderr",
     "output_type": "stream",
     "text": [
      "Infected: 0 time step: 190"
     ]
    },
    {
     "data": {
      "image/png": "[encoded data removed]",
      "text/plain": [
       "<matplotlib.figure.Figure at 0x150ece0eb8>"
      ]
     },
     "metadata": {},
     "output_type": "display_data"
    }
   ],
   "source": [
    "def initialise_infection_betweenness(G, num_to_infect, largest=True):\n",
    "    #below we sort the nodes in order of their betweenness centrality, highest first.\n",
    "    nodes_to_infect = []\n",
    "    bet_cen = nx.betweenness_centrality(G)\n",
    "    nodes_sorted_by_betweenness = sorted(bet_cen.items(), key=operator.itemgetter(1), reverse=largest)\n",
    "    for x in range(num_to_infect): \n",
    "        nodes_to_infect.append(nodes_sorted_by_betweenness[x])\n",
    "    for n in nodes_to_infect:\n",
    "        G.node[n[0]]['state'] = State.Infected\n",
    "    return nodes_to_infect\n",
    "\n",
    "# run Monte Carlo simulations\n",
    "Influences = []  #stores the total number of removed nodes in each run.\n",
    "for i in range(sampleSize):\n",
    "    reset(Gra) # initialise all nodes to succeptible\n",
    "    initially_infected = initialise_infection_betweenness(Gra, ini)\n",
    "    S, I, R, endtime, ii = run_spread_simulation(Gra, m, initially_infected)\n",
    "    Influences.append(float(R[-1])/len(Gra))\n",
    "# print  'the expected influence of the seed nodes is', np.average(Influences)\n",
    "plotDistribution(Influences)"
   ]
  },
  {
   "cell_type": "markdown",
   "metadata": {},
   "source": [
    "## The bimodel behavior and the critical point\n",
    "\n",
    "The physical reason behind this bimodal distribution is due to the existence of the so-called 'Giant Component' in the network. A 'Giant component' is the connected set of nodes through infection paths. Statistical mechanics analysis leads to the conclusion that the size (number of nodes) inside the giant component is unique when the size of the whole network is infinite. The peak on the right of the histogram has a position corresponding to the size of the giant component. Now it is clear why the position of that peak is around 0.2 regardless of the initialisation condition.\n",
    "\n",
    "But there is a catch here. A message needs to go 'viral' to be considered as viral marketing. This 'viral' condition has a clear definition in complex networks, called critical threshold $\\gamma_c$, where $\\gamma = \\beta/\\alpha$ characterizing the spreading strength of the message. In the case of Erdos-Renyi networks, $\\gamma_c=1/(\\langle k \\rangle -1)$. The message could never go viral if its $\\gamma$ value is below the critical value; it has A CHANCE to go viral ONLY when $\\gamma>\\gamma_c$. We will see from the example of Erdos-Renyi network below.\n",
    "\n",
    "## Below the critical threshold\n",
    "\n",
    "The network has average degree 5, thus its critical threshold $\\gamma_c=0.25$.\n",
    "The transmission model has $\\beta=0.01$ and $\\alpha=0.5$, thus a $\\gamma$ value smaller than the critical threshold, and we expect the spreading not be big.\n"
   ]
  },
  {
   "cell_type": "code",
   "execution_count": 31,
   "metadata": {},
   "outputs": [
    {
     "name": "stderr",
     "output_type": "stream",
     "text": [
      "Infected: 0 time step: 2"
     ]
    },
    {
     "data": {
      "image/png": "[encoded data removed]",
      "text/plain": [
       "<matplotlib.figure.Figure at 0x150e895fd0>"
      ]
     },
     "metadata": {},
     "output_type": "display_data"
    }
   ],
   "source": [
    "##############################################\n",
    "#Initialise the network\n",
    "N = 1000 # size of network to make\n",
    "Gra = nx.erdos_renyi_graph(N,5.0/N) # create ER network with average degree 5.0\n",
    "m = transmission_model_factory(0.01, 0.5) # create our transmission model\n",
    "ini = 5 #initially infected number of nodes\n",
    "\n",
    "# run Monte Carlo simulations\n",
    "Influences = []  #stores the total number of removed nodes in each run.\n",
    "for i in range(sampleSize):\n",
    "    reset(Gra) # initialise all nodes to succeptible\n",
    "    initially_infected = initialise_infection_random(Gra, ini)\n",
    "    S, I, R, endtime, ii = run_spread_simulation(Gra, m, initially_infected)\n",
    "    Influences.append(float(R[-1])/len(Gra))\n",
    "# print  'the expected influence of the seed nodes is', np.average(Influences)\n",
    "plotDistribution(Influences)"
   ]
  },
  {
   "cell_type": "markdown",
   "metadata": {},
   "source": [
    "## Above the critical threshold\n",
    "\n",
    "Now we change the transmission model parameter to $\\beta=0.15$ and $\\alpha=0.5$, such that the $\\gamma$ value is above the critical threshold. Here we would observe that some of the realisations reached a significant portion of the whole network.\n"
   ]
  },
  {
   "cell_type": "code",
   "execution_count": 32,
   "metadata": {},
   "outputs": [
    {
     "name": "stderr",
     "output_type": "stream",
     "text": [
      "Infected: 0 time step: 228"
     ]
    },
    {
     "data": {
      "image/png": "[encoded data removed]",
      "text/plain": [
       "<matplotlib.figure.Figure at 0x108ce72e8>"
      ]
     },
     "metadata": {},
     "output_type": "display_data"
    }
   ],
   "source": [
    "##############################################\n",
    "#Initialise the network\n",
    "N = 1000 # size of network to make\n",
    "Gra = nx.erdos_renyi_graph(N,5.0/N) # create ER network with average degree 5.0\n",
    "m = transmission_model_factory(0.15, 0.5) # create our transmission model\n",
    "ini = 5 #initially infected number of nodes\n",
    "# run Monte Carlo simulations\n",
    "Influences = []  #stores the total number of removed nodes in each run.\n",
    "for i in range(sampleSize):\n",
    "    reset(Gra) # initialise all nodes to succeptible\n",
    "    initially_infected = initialise_infection_random(Gra, ini)\n",
    "    S, I, R, endtime, ii = run_spread_simulation(Gra, m, initially_infected)\n",
    "    Influences.append(float(R[-1])/len(Gra))\n",
    "# print  'the expected influence of the seed nodes is', np.average(Influences)\n",
    "plotDistribution(Influences)"
   ]
  },
  {
   "cell_type": "markdown",
   "metadata": {},
   "source": [
    "## A rigorous definition for viral marketing\n",
    "\n",
    "From the phenomenon above, we see that viral spreading occurs only when the message reaches a certain threshold level of spreading strength $\\gamma$. For any given network structure and model construct (SIR or linear threshold model etc.), there is a well-defined threshold that the message or disease can go \"VIRAL\". Such threshold can be mathematically proven and calculated.\n"
   ]
  },
  {
   "cell_type": "markdown",
   "metadata": {},
   "source": [
    "## Computational time\n",
    "The computational time in the above experiments is non-negligible. And that was only with 1000 nodes with a few thousand links in total. Imagine in the real social networks with total number of nodes in the order of 1,000,000,000, the computational time for a supercomputer would be years for the purpose of finding the best set of seed nodes. \n",
    "\n",
    "## Question:\n",
    "Based on the bimodal distribution of the histograms, could you construct a method to significantly improve the computational runtime/complexity, in terms of estimating the number of finally removed nodes $\\langle T \\rangle$ from a given set of seed  nodes?\n",
    "\n"
   ]
  },
  {
   "cell_type": "markdown",
   "metadata": {
    "collapsed": true
   },
   "source": [
    "## Practical problem (for your interest)\n",
    "\n",
    "The real social networks are much more complicated than BA or ER networks as exemplified above, with more intricate local and global structures like assortativity, clustering and communities; They are also much larger with up to billions of nodes for Facebook and Twitter. As a practice, please use the New Orleans Facebook network to study the information spreading over real social networks. \n",
    "\n",
    "The Facebook Network Data of New Orleans used in the 2009 research article 'On the Evolution of User Interaction in Facebook' by Bimal Viswanath and Alan Mislove and Meeyoung Cha and Krishna P. Gummadi, published in Proceedings of the 2nd ACM SIGCOMM Workshop on Social Networks (http://socialnetworks.mpi-sws.org/data-wosn2009.html).\n",
    "\n",
    "## Find the set of 10 nodes that maximizes the final number of infected nodes"
   ]
  },
  {
   "cell_type": "code",
   "execution_count": 34,
   "metadata": {},
   "outputs": [],
   "source": [
    "#import facebook network data\n",
    "fh=open(\"facebook-links.txt\",\"rb\")\n",
    "FB=nx.read_edgelist(fh,nodetype=int,data = False)\n",
    "#check the total size of the network\n",
    "N= len(FB.nodes()), \n",
    "#Get the largest index of the nodes\n",
    "M=max(FB.nodes())\n",
    "# print 'The Facebook network contains ', N[0] , ' nodes.'"
   ]
  },
  {
   "cell_type": "code",
   "execution_count": 35,
   "metadata": {},
   "outputs": [
    {
     "data": {
      "image/png": "[encoded data removed]",
      "text/plain": [
       "<matplotlib.figure.Figure at 0x150eaa7080>"
      ]
     },
     "metadata": {},
     "output_type": "display_data"
    }
   ],
   "source": [
    "import matplotlib.pyplot as plt \n",
    "import numpy as np\n",
    "\n",
    "Avr_rhos = [0.00071199999999999888, 0.00063267999999999571, 0.00056951999999999491, 0.00049603999999999816, 0.00043916000000000094, 0.00039640000000000042, 0.00035732000000000027, 0.00032335999999999677, 0.00028683999999999681, 0.00025691999999999648, 0.00021891999999999544, 0.00020119999999999535, 0.00016827999999999627, 0.00015123999999999601, 0.0001364399999999963, 0.00012531999999999702, 0.00011079999999999765, 9.8639999999997768e-05, 8.4239999999998136e-05, 7.699999999999866e-05, 7.6279999999998612e-05, 6.043999999999915e-05, 5.7559999999999225e-05, 5.0879999999999438e-05, 4.6239999999999544e-05]\n",
    "plt.plot(range(25),Avr_rhos,'ro')\n",
    "plt.show()"
   ]
  },
  {
   "cell_type": "code",
   "execution_count": null,
   "metadata": {
    "collapsed": true
   },
   "outputs": [],
   "source": []
  }
 ],
 "metadata": {
  "anaconda-cloud": {},
  "kernelspec": {
   "display_name": "Python 3",
   "language": "python",
   "name": "python3"
  },
  "language_info": {
   "codemirror_mode": {
    "name": "ipython",
    "version": 3
   },
   "file_extension": ".py",
   "mimetype": "text/x-python",
   "name": "python",
   "nbconvert_exporter": "python",
   "pygments_lexer": "ipython3",
   "version": "3.6.4"
  }
 },
 "nbformat": 4,
 "nbformat_minor": 1
}
