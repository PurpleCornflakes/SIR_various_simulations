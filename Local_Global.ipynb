{
 "cells": [
  {
   "cell_type": "code",
   "execution_count": 1,
   "metadata": {},
   "outputs": [],
   "source": [
    "%matplotlib inline\n",
    "import matplotlib.pyplot as plt\n",
    "import networkx as nx\n",
    "import numpy as np\n",
    "from scipy.io import loadmat\n",
    "from random import choices\n",
    "import copy\n",
    "from scipy.sparse import issparse\n",
    "from statistics import mean,stdev\n",
    "from utils.fileload import load_matfile"
   ]
  },
  {
   "cell_type": "markdown",
   "metadata": {},
   "source": [
    "## 1. Transform edgelist to Graph"
   ]
  },
  {
   "cell_type": "markdown",
   "metadata": {},
   "source": [
    "## 1.1 cluster size distribution"
   ]
  },
  {
   "cell_type": "code",
   "execution_count": 4,
   "metadata": {},
   "outputs": [],
   "source": [
    "def percolate(G, beta, unWeighted=True):\n",
    "    '''\n",
    "    Here we don't consider Directed/Weighted graph \n",
    "    \n",
    "    '''\n",
    "    edges_percolated = []\n",
    "    G_percolated = nx.Graph()\n",
    "    assert(G_percolated.number_of_nodes() == 0)\n",
    "    numPercolatedEdges = int(beta*G.number_of_edges())\n",
    "    G_percolated.add_nodes_from(list(G.nodes))\n",
    "    if unWeighted:\n",
    "        edges_percolated = choices(list(G.edges), k=numPercolatedEdges)\n",
    "        assert(len(edges_percolated) ==  numPercolatedEdges)\n",
    "        G_percolated.add_edges_from(edges_percolated)\n",
    "#     else:\n",
    "#         bond percolation probability depends on the edge's weight\n",
    "    return G_percolated"
   ]
  },
  {
   "cell_type": "code",
   "execution_count": 5,
   "metadata": {},
   "outputs": [],
   "source": [
    "from tqdm import tqdm\n",
    "def node_cluster_sizes(G, beta = 0.02,numIter = 100, nodes = [131,222,323]):\n",
    "    nodes_sizes = {n: [] for n in nodes}\n",
    "    for i in tqdm(range(numIter)):\n",
    "        G_percolated = percolate(G, beta)\n",
    "        # k_131 = 126,  k_222 = 27, k_323 = 48\n",
    "        for n in nodes:\n",
    "            nodes_sizes[n] += [len(nx.node_connected_component(G_percolated,n))]\n",
    "    return nodes_sizes"
   ]
  },
  {
   "cell_type": "code",
   "execution_count": 3,
   "metadata": {},
   "outputs": [],
   "source": [
    "# G_FB = nx.read_edgelist(\"NOLAfacebook.csv\",create_using=nx.Graph(),delimiter=\",\", nodetype=int)\n",
    "# nodes_sizes = node_cluster_sizes(G_FB)\n",
    "# k_131 = 126,  k_222 = 27, k_323 = 48\n",
    "# nodes_sizes = node_cluster_sizes(G_blogcatalog, nodes = [131,222,323])"
   ]
  },
  {
   "cell_type": "code",
   "execution_count": 6,
   "metadata": {},
   "outputs": [
    {
     "name": "stderr",
     "output_type": "stream",
     "text": [
      "100%|██████████| 100/100 [00:21<00:00,  4.72it/s]\n"
     ]
    }
   ],
   "source": [
    "# \"blogcatalog.mat\" is a undirected, unweighted graph\n",
    "G_blogcatalog = load_matfile(file_ = \"data/blogcatalog.mat\")\n",
    "assert(G_blogcatalog.number_of_nodes() == 10312)\n",
    "assert(G_blogcatalog.number_of_edges() == 333983)\n",
    "# k_4 = 115,  k_484 = 25, k_60 = 29\n",
    "nodes_sizes = node_cluster_sizes(G_blogcatalog, nodes = [4,484,60])"
   ]
  },
  {
   "cell_type": "code",
   "execution_count": 134,
   "metadata": {},
   "outputs": [],
   "source": [
    "def plot_s_dist(nodes_sizes, log_x = True, log_y = False):\n",
    "    for k, sizes in nodes_sizes.items():\n",
    "        plt.figure(int(k))\n",
    "        if log_x:\n",
    "            bins = np.linspace(0,np.log2(max(sizes)),101)\n",
    "#             plt.xticks(bins, [\"2^%s\" % i for i in bins])\n",
    "            plt.hist(np.log2(sizes), log=log_y, bins=bins)\n",
    "        else:\n",
    "            bins = range(10)\n",
    "#             bins = range(0,max(sizes), 10)\n",
    "            plt.hist(sizes, log=log_y, bins=bins)\n",
    "    \n",
    "        plt.show()"
   ]
  },
  {
   "cell_type": "code",
   "execution_count": 135,
   "metadata": {},
   "outputs": [
    {
     "data": {
      "image/png": "[encoded data removed]",
      "text/plain": [
       "<matplotlib.figure.Figure at 0x182f5a9390>"
      ]
     },
     "metadata": {},
     "output_type": "display_data"
    },
    {
     "data": {
      "image/png": "[encoded data removed]",
      "text/plain": [
       "<matplotlib.figure.Figure at 0x1831590978>"
      ]
     },
     "metadata": {},
     "output_type": "display_data"
    },
    {
     "data": {
      "image/png": "[encoded data removed]",
      "text/plain": [
       "<matplotlib.figure.Figure at 0x184a306e48>"
      ]
     },
     "metadata": {},
     "output_type": "display_data"
    }
   ],
   "source": [
    "plot_s_dist(nodes_sizes, log_x = False)\n"
   ]
  },
  {
   "cell_type": "code",
   "execution_count": 136,
   "metadata": {},
   "outputs": [
    {
     "data": {
      "text/plain": [
       "60.34647297788966"
      ]
     },
     "execution_count": 136,
     "metadata": {},
     "output_type": "execute_result"
    }
   ],
   "source": [
    "nodes_sizes[4]\n",
    "100*(1-0.02)**25"
   ]
  },
  {
   "cell_type": "code",
   "execution_count": null,
   "metadata": {},
   "outputs": [],
   "source": []
  }
 ],
 "metadata": {
  "kernelspec": {
   "display_name": "Python 3",
   "language": "python",
   "name": "python3"
  },
  "language_info": {
   "codemirror_mode": {
    "name": "ipython",
    "version": 3
   },
   "file_extension": ".py",
   "mimetype": "text/x-python",
   "name": "python",
   "nbconvert_exporter": "python",
   "pygments_lexer": "ipython3",
   "version": "3.6.4"
  }
 },
 "nbformat": 4,
 "nbformat_minor": 2
}
