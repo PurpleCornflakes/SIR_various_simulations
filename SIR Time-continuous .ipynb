{
 "cells": [
  {
   "cell_type": "markdown",
   "metadata": {},
   "source": [
    "The base model of SIR consists of two time-continuous process\n",
    "- an infected node i has probability $r_{ij}$ per unit time to infect its neighbor j\n",
    "- the infected node i has probability $\\mu_i$ per unit time to recover from being infected.\n",
    "\n",
    "In this notebook we try to do a event-driven simulation instead of time-driven discrete simulation to simulate the time-continuous process."
   ]
  },
  {
   "cell_type": "markdown",
   "metadata": {},
   "source": [
    "Basic idea of the algorithm is to decide whether a recovery or an infection happens first.\n",
    "- Each infected node i's recover time is recorded in recover_times{i:recover_time,...} once it's infected\n",
    "- Each node j which is possibly to be infected, any possible_infection_time by its neighbors i,k would be inserted in nodes_to_infect{j:\\[t_ij, t_kj\\],...}, maintaining the order of possible_infection_times_list so as to make it starts from the min_value"
   ]
  },
  {
   "cell_type": "markdown",
   "metadata": {},
   "source": [
    "Then\n",
    "1. Once a recovery happens, delete the node; \n",
    "2. Once a infection happens, delete all the in_edges of the node so as not to let it be infected by other neighbors again."
   ]
  },
  {
   "cell_type": "code",
   "execution_count": 1,
   "metadata": {},
   "outputs": [],
   "source": [
    "%matplotlib inline\n",
    "import matplotlib.pyplot as plt\n",
    "import networkx as nx\n",
    "import numpy as np\n",
    "from random import choices\n",
    "import copy\n",
    "from statistics import mean,stdev\n",
    "from utils.timing import timeit\n",
    "from utils.fileload import load_matfile"
   ]
  },
  {
   "cell_type": "code",
   "execution_count": 2,
   "metadata": {},
   "outputs": [],
   "source": [
    "G_blogcatalog = load_matfile(file_ = \"data/blogcatalog.mat\",unDirected=False)"
   ]
  },
  {
   "cell_type": "markdown",
   "metadata": {},
   "source": [
    "## traditional SIR \n",
    "- O(): susceptible_neighbors[0] + susceptible_neighbors[1] + ...\n",
    "- if i hasn't recover, has to sample p(i->j) again\n",
    "## my SIR \n",
    "- O(): max(susceptible_neighbors)\n",
    "- i's recover time: sample once, t(i->j): sample once"
   ]
  },
  {
   "cell_type": "code",
   "execution_count": 3,
   "metadata": {},
   "outputs": [],
   "source": [
    "import math\n",
    "import random\n",
    "\n",
    "def sample_infect_interval(r=0.03):\n",
    "    '''\n",
    "    r is infection rate\n",
    "    sample from p(t) = r*exp(-r*t)\n",
    "    '''\n",
    "    return -(1.0/r)*math.log(random.random())\n",
    "\n",
    "def sample_recover_interval(mu=0.05):\n",
    "    '''\n",
    "    mu is recover rate\n",
    "    sample from p(t) = mu*exp(-mu*t)\n",
    "    '''\n",
    "    return -(1.0/mu)*math.log(random.random())\n",
    "\n",
    "def insert_infect_time(nodelist, j, t_ij):\n",
    "    if j in nodelist:\n",
    "        n = 0\n",
    "        while nodelist[j][n] < t_ij:\n",
    "            n += 1\n",
    "            if n == len(nodelist[j]):\n",
    "                break\n",
    "        nodelist[j].insert(n,t_ij)\n",
    "    else:\n",
    "        nodelist[j] = [t_ij]"
   ]
  },
  {
   "cell_type": "code",
   "execution_count": 4,
   "metadata": {},
   "outputs": [
    {
     "data": {
      "text/plain": [
       "{1: [1, 2], 2: [0.5]}"
      ]
     },
     "execution_count": 4,
     "metadata": {},
     "output_type": "execute_result"
    }
   ],
   "source": [
    "dd = {1:[1,2]}\n",
    "insert_infect_time(dd, 2, 0.5)\n",
    "dd"
   ]
  },
  {
   "cell_type": "code",
   "execution_count": 5,
   "metadata": {},
   "outputs": [],
   "source": [
    "def insert_infect_times(G, infectious_node, t_i, recover_interval, nodes_to_infect):\n",
    "    '''\n",
    "    For each infectious_node's susceptible neighbor,\n",
    "    insert possible infect time to its possible \"be-infected time\"s list.\n",
    "    '''\n",
    "    susceptible_nns = [k for _,k in list(G.out_edges(infectious_node))]\n",
    "    for k in susceptible_nns:\n",
    "        infect_interval = sample_infect_interval()\n",
    "        if infect_interval < recover_interval:\n",
    "            insert_infect_time(nodes_to_infect, k, t_i+infect_interval)  \n",
    "\n",
    "\n",
    "\n",
    "@timeit\n",
    "def set_seeds(G, nodes_to_infect, recover_times, seeds=[4,484,60]):\n",
    "    '''\n",
    "    For each infected node, \n",
    "    no node would infect it again, so we remove its in_edges\n",
    "    it can only recover, or infect other nodes through out_edges\n",
    "    '''\n",
    "    for i in seeds:\n",
    "        # remove i's in_edges\n",
    "        G.remove_edges_from(list(G.in_edges(i)))\n",
    "        \n",
    "        # sample a recover_interval for i and add it to recover_times\n",
    "        recover_interval = sample_recover_interval()\n",
    "        recover_times[i] = 0.0 + recover_interval\n",
    "        \n",
    "        # insert possible infect times result from i\n",
    "        insert_infect_times(G, i, 0.0, recover_interval, nodes_to_infect)\n",
    "        \n",
    "def update_state(G, nodes_to_infect, recover_times):\n",
    "    '''\n",
    "    choose a recovering/infection event to happen\n",
    "    remove the node if it recovered\n",
    "    remove the node's in_edges if it's infected\n",
    "    '''\n",
    "    j,possible_t_j = min(nodes_to_infect.items(), key=lambda t: t[1][0])\n",
    "    min_t_j = possible_t_j[0]\n",
    "    \n",
    "    if len(recover_times) == 0:\n",
    "        min_tau_i = math.inf\n",
    "    else:\n",
    "        i, min_tau_i = min(recover_times.items(), key=lambda t: t[1])\n",
    "        \n",
    "    if min_tau_i < min_t_j:\n",
    "        recover_times.pop(i, None)\n",
    "        G.remove_node(i)\n",
    "    else:\n",
    "        t_j = min_t_j\n",
    "        recover_interval = sample_recover_interval()\n",
    "        recover_times[j] = t_j + recover_interval\n",
    "        \n",
    "        insert_infect_times(G, j, t_j, recover_interval, nodes_to_infect)\n",
    "        # remove the first element in dict\n",
    "        nodes_to_infect.pop(j, None)\n",
    "        G.remove_edges_from(list(G.in_edges(j)))"
   ]
  },
  {
   "cell_type": "code",
   "execution_count": 7,
   "metadata": {},
   "outputs": [
    {
     "name": "stdout",
     "output_type": "stream",
     "text": [
      "'set_seeds'  11.22 ms\n"
     ]
    }
   ],
   "source": [
    "# G_blogcatalog = load_matfile(file_ = \"blogcatalog.mat\",unDirected=False)\n",
    "# assert(G_blogcatalog.number_of_nodes() == 10312)\n",
    "# assert(G_blogcatalog.number_of_edges() == 333983)\n",
    "G_FB = nx.read_edgelist(\"data/NOLAfacebook.csv\", create_using=nx.DiGraph(), delimiter=\",\", nodetype=int)\n",
    "recover_times = {}\n",
    "nodes_to_infect = {}\n",
    "\n",
    "set_seeds(G_FB, nodes_to_infect, recover_times, seeds = [2332, 471, 554, 2322, 451])\n",
    "\n",
    "while len(nodes_to_infect) > 0:\n",
    "    update_state(G_FB, nodes_to_infect, recover_times)\n",
    "    print(\"\\r num_nodes: {} \".format(G_FB.number_of_nodes()),end = \"\")\n",
    "print()"
   ]
  }
 ],
 "metadata": {
  "kernelspec": {
   "display_name": "Python 3",
   "language": "python",
   "name": "python3"
  },
  "language_info": {
   "codemirror_mode": {
    "name": "ipython",
    "version": 3
   },
   "file_extension": ".py",
   "mimetype": "text/x-python",
   "name": "python",
   "nbconvert_exporter": "python",
   "pygments_lexer": "ipython3",
   "version": "3.6.4"
  }
 },
 "nbformat": 4,
 "nbformat_minor": 2
}
