{
 "cells": [
  {
   "cell_type": "code",
   "execution_count": null,
   "metadata": {},
   "outputs": [],
   "source": [
    "%matplotlib inline\n",
    "import matplotlib.pyplot as plt\n",
    "import networkx as nx\n",
    "import numpy as np\n",
    "from scipy.io import loadmat\n",
    "from random import choices\n",
    "import copy\n",
    "from scipy.sparse import issparse\n",
    "from statistics import mean,stdev\n",
    "# fileload.py\n",
    "from fileload import load_matfile\n",
    "from tqdm import tqdm"
   ]
  },
  {
   "cell_type": "markdown",
   "metadata": {},
   "source": [
    "## 1. Transform edgelist to Graph"
   ]
  },
  {
   "cell_type": "code",
   "execution_count": null,
   "metadata": {},
   "outputs": [],
   "source": [
    "# import csv\n",
    "# with open(\"facebook-links.txt\") as rfh:\n",
    "#     reader = csv.reader(rfh, delimiter=\"\\t\")\n",
    "#     edgelist = list(reader)\n",
    "# with open('NOLAfacebook.csv', 'w', newline='') as wfh:\n",
    "#     spamwriter = csv.writer(wfh, delimiter=',')\n",
    "#     for row in edgelist:\n",
    "#         spamwriter.writerow([int(row[0]), int(row[1])])"
   ]
  },
  {
   "cell_type": "code",
   "execution_count": null,
   "metadata": {},
   "outputs": [],
   "source": [
    "G_blogcatalog = load_matfile(file_ = \"blogcatalog.mat\")\n",
    "assert(G_blogcatalog.number_of_nodes() == 10312)\n",
    "assert(G_blogcatalog.number_of_edges() == 333983)"
   ]
  },
  {
   "cell_type": "markdown",
   "metadata": {},
   "source": [
    "## 1.1 cluster size distribution"
   ]
  },
  {
   "cell_type": "code",
   "execution_count": null,
   "metadata": {},
   "outputs": [],
   "source": [
    "def percolate(G, beta, unWeighted=True):\n",
    "    '''\n",
    "    Percolate G with probability beta,\n",
    "    return G with merely percolated edges.\n",
    "    \n",
    "    Note: Here we don't consider Directed/Weighted graph \n",
    "    \n",
    "    '''\n",
    "    edges_percolated = []\n",
    "    G_percolated = nx.Graph()\n",
    "    assert(G_percolated.number_of_nodes() == 0)\n",
    "    numPercolatedEdges = int(beta*G.number_of_edges())\n",
    "    G_percolated.add_nodes_from(list(G.nodes))\n",
    "    if unWeighted:\n",
    "        edges_percolated = choices(list(G.edges), k=numPercolatedEdges)\n",
    "        assert(len(edges_percolated) ==  numPercolatedEdges)\n",
    "        G_percolated.add_edges_from(edges_percolated)\n",
    "#     else:\n",
    "#         bond percolation probability depends on the edge's weight\n",
    "    return G_percolated"
   ]
  },
  {
   "cell_type": "code",
   "execution_count": null,
   "metadata": {},
   "outputs": [],
   "source": [
    "def nodes_in_GC(G,beta):\n",
    "    '''\n",
    "    return a set of nodes in the percolated Giant Cluster\n",
    "    '''\n",
    "    G_percolated = percolate(G,beta)\n",
    "    largest_cc_nodes = max(nx.connected_components(G_percolated), key=len)\n",
    "    return largest_cc_nodes"
   ]
  },
  {
   "cell_type": "code",
   "execution_count": 34,
   "metadata": {},
   "outputs": [],
   "source": [
    "def times_in_GC(G, numIter, beta=0.004):\n",
    "    '''\n",
    "    return a dictionary of all nodes with \n",
    "    key: node \n",
    "    value: list of iterations in which the node is in GC\n",
    "    '''\n",
    "    times_in_GC = {n:[] for n in G.nodes()}\n",
    "    for i in range(numIter):\n",
    "        for n in nodes_in_GC(G,beta):\n",
    "            times_in_GC[n].append(i)\n",
    "    return times_in_GC\n",
    "numIter = 50\n",
    "times = sorted({k:len(v) for k,v in times_in_GC(G_blogcatalog,numIter).items()}.items(),key=lambda kv: kv[1])"
   ]
  },
  {
   "cell_type": "code",
   "execution_count": 35,
   "metadata": {},
   "outputs": [],
   "source": [
    "# 0.005,50\n",
    "# 0.01, 550\n",
    "# 0.015,1000\n",
    "# 0.02, 1500\n",
    "# 0.03, 2500"
   ]
  },
  {
   "cell_type": "code",
   "execution_count": 36,
   "metadata": {},
   "outputs": [
    {
     "data": {
      "text/plain": [
       "[5680, 445, 8156, 4996, 738, 1225, 644, 175, 4838, 2520]"
      ]
     },
     "execution_count": 36,
     "metadata": {},
     "output_type": "execute_result"
    },
    {
     "data": {
      "image/png": "[encoded data removed]",
      "text/plain": [
       "<matplotlib.figure.Figure at 0x1826773940>"
      ]
     },
     "metadata": {},
     "output_type": "display_data"
    }
   ],
   "source": [
    "plt.hist([t for n,t in times],log=False,bins = range(numIter))\n",
    "plt.ylim(0,100)\n",
    "[n for n,t in times[-10:]]"
   ]
  },
  {
   "cell_type": "code",
   "execution_count": 16,
   "metadata": {},
   "outputs": [
    {
     "data": {
      "text/plain": [
       "[(4651, 47),\n",
       " (448, 47),\n",
       " (4707, 47),\n",
       " (445, 48),\n",
       " (4983, 48),\n",
       " (7372, 48),\n",
       " (738, 48),\n",
       " (175, 49),\n",
       " (4373, 49),\n",
       " (4838, 49)]"
      ]
     },
     "execution_count": 16,
     "metadata": {},
     "output_type": "execute_result"
    }
   ],
   "source": [
    "times[-10:]"
   ]
  },
  {
   "cell_type": "code",
   "execution_count": 17,
   "metadata": {},
   "outputs": [
    {
     "data": {
      "text/plain": [
       "list"
      ]
     },
     "execution_count": 17,
     "metadata": {},
     "output_type": "execute_result"
    }
   ],
   "source": []
  },
  {
   "cell_type": "code",
   "execution_count": null,
   "metadata": {},
   "outputs": [],
   "source": []
  }
 ],
 "metadata": {
  "kernelspec": {
   "display_name": "Python 3",
   "language": "python",
   "name": "python3"
  },
  "language_info": {
   "codemirror_mode": {
    "name": "ipython",
    "version": 3
   },
   "file_extension": ".py",
   "mimetype": "text/x-python",
   "name": "python",
   "nbconvert_exporter": "python",
   "pygments_lexer": "ipython3",
   "version": "3.6.4"
  }
 },
 "nbformat": 4,
 "nbformat_minor": 2
}
